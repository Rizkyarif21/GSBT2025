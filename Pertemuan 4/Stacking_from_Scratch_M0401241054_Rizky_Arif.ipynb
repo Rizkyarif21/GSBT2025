{
  "cells": [
    {
      "cell_type": "markdown",
      "id": "8f5448fb",
      "metadata": {
        "id": "8f5448fb",
        "papermill": {
          "duration": 0.014281,
          "end_time": "2024-06-29T05:06:57.857497",
          "exception": false,
          "start_time": "2024-06-29T05:06:57.843216",
          "status": "completed"
        },
        "tags": []
      },
      "source": [
        "# **Stacking from scratch**\n",
        "\n",
        "Berikan penjelasan terkait Stacking!\n",
        "\n",
        "Source : https://www.geeksforgeeks.org/machine-learning/stacking-in-machine-learning/\n",
        "Youtube : https://www.youtube.com/watch?v=a4IS1Ai7GCI"
      ]
    },
    {
      "cell_type": "code",
      "execution_count": 2,
      "id": "1586bc8f",
      "metadata": {
        "execution": {
          "iopub.execute_input": "2024-06-29T05:06:57.888286Z",
          "iopub.status.busy": "2024-06-29T05:06:57.887851Z",
          "iopub.status.idle": "2024-06-29T05:07:00.846336Z",
          "shell.execute_reply": "2024-06-29T05:07:00.845160Z"
        },
        "id": "1586bc8f",
        "papermill": {
          "duration": 2.977168,
          "end_time": "2024-06-29T05:07:00.849030",
          "exception": false,
          "start_time": "2024-06-29T05:06:57.871862",
          "status": "completed"
        },
        "tags": []
      },
      "outputs": [],
      "source": [
        "# Import Libraries\n",
        "import numpy as np\n",
        "import pandas as pd\n",
        "import matplotlib.pyplot as plt\n",
        "import seaborn as snsimport\n",
        "import pandas as pd\n",
        "from sklearn.model_selection import train_test_split, KFold\n",
        "from sklearn.datasets import load_iris\n",
        "from sklearn.base import clone\n",
        "from sklearn.metrics import accuracy_score\n",
        "from sklearn.linear_model import LogisticRegression\n",
        "from sklearn.tree import DecisionTreeClassifier\n",
        "from sklearn.svm import SVC"
      ]
    },
    {
      "cell_type": "markdown",
      "source": [
        "**Pendefinisian class stack**\n",
        "\n",
        "Bertujuan untuk membuat kerangka kerja ensemble learning berbasis stacking dan blending secara modular dan fleksibel. Class ini memungkinkan pengguna untuk menggabungkan beberapa model dasar (base learners) dan satu model meta (final estimator) untuk menghasilkan prediksi akhir yang lebih akurat. Dengan mengatur parameter seperti metode cross-validation, penggunaan blending, serta paralelisasi proses, class ini memberikan kontrol penuh kepada pengguna dalam menerapkan teknik stacking sesuai kebutuhan. Kegunaan utamanya adalah sebagai alat bantu untuk mengimplementasikan ensemble model dari nol (from scratch) tanpa tergantung pada fungsi otomatis dari pustaka seperti scikit-learn, sehingga cocok untuk pembelajaran konsep maupun eksperimen lanjutan dalam machine learning."
      ],
      "metadata": {
        "id": "xl_ZCQOqltFo"
      },
      "id": "xl_ZCQOqltFo"
    },
    {
      "cell_type": "markdown",
      "source": [
        "Buat class bernama Stack yang berisi <br>\n",
        "\n",
        "Attribute:\n",
        "\n",
        "\n",
        "Method:\n"
      ],
      "metadata": {
        "id": "_hxe6ClnA8_o"
      },
      "id": "_hxe6ClnA8_o"
    },
    {
      "cell_type": "code",
      "execution_count": 5,
      "id": "436db242",
      "metadata": {
        "execution": {
          "iopub.execute_input": "2024-06-29T05:07:00.881581Z",
          "iopub.status.busy": "2024-06-29T05:07:00.880255Z",
          "iopub.status.idle": "2024-06-29T05:07:00.897475Z",
          "shell.execute_reply": "2024-06-29T05:07:00.896334Z"
        },
        "id": "436db242",
        "papermill": {
          "duration": 0.036178,
          "end_time": "2024-06-29T05:07:00.900303",
          "exception": false,
          "start_time": "2024-06-29T05:07:00.864125",
          "status": "completed"
        },
        "tags": []
      },
      "outputs": [],
      "source": [
        "# Definisikan class stack\n",
        "\n",
        "class Stack:\n",
        "    \"\"\"\n",
        "    Class untuk menerapkan teknik Stacking (ensemble learning)\n",
        "    dari nol (from scratch).\n",
        "\n",
        "    Atributnya:\n",
        "        base_models : list\n",
        "            Daftar model dasar (base learners)\n",
        "        meta_model : object\n",
        "            Model meta (final estimator)\n",
        "        n_folds : int\n",
        "            Jumlah lipatan cross-validation untuk membuat meta-features\n",
        "    \"\"\"\n",
        "\n",
        "    def __init__(self, base_models, meta_model, n_folds=5):\n",
        "        self.base_models = base_models\n",
        "        self.meta_model = meta_model\n",
        "        self.n_folds = n_folds\n",
        "\n",
        "    def fit(self, X, y):\n",
        "        \"\"\"Latih base models dengan KFold, lalu latih meta model.\"\"\"\n",
        "        self.base_models_ = [list() for _ in self.base_models]\n",
        "        self.meta_model_ = clone(self.meta_model)\n",
        "        kfold = KFold(n_splits=self.n_folds, shuffle=True, random_state=42)\n",
        "\n",
        "        # Membuat array kosong untuk meta-features\n",
        "        out_of_fold_predictions = np.zeros((X.shape[0], len(self.base_models)))\n",
        "\n",
        "        # Latih base modelsnya satu per satu\n",
        "        for i, model in enumerate(self.base_models):\n",
        "            for train_idx, holdout_idx in kfold.split(X, y):\n",
        "                instance = clone(model)\n",
        "                X_train, y_train = X[train_idx], y[train_idx]\n",
        "                X_holdout = X[holdout_idx]\n",
        "                instance.fit(X_train, y_train)\n",
        "                y_pred = instance.predict(X_holdout)\n",
        "                out_of_fold_predictions[holdout_idx, i] = y_pred\n",
        "                self.base_models_[i].append(instance)\n",
        "\n",
        "        # Latih meta model di atas meta-features\n",
        "        self.meta_model_.fit(out_of_fold_predictions, y)\n",
        "        return self\n",
        "\n",
        "    def prediksi(self, X):\n",
        "        \"\"\"Prediksi dengan base models lalu meta model.\"\"\"\n",
        "        meta_features = np.column_stack([\n",
        "            np.column_stack([model.prediksi(X) for model in base_models_list]).mean(axis=1)\n",
        "            for base_models_list in self.base_models_\n",
        "        ])\n",
        "        return self.meta_model_.prediksi(meta_features)\n"
      ]
    },
    {
      "cell_type": "markdown",
      "id": "1cf6ff9c",
      "metadata": {
        "id": "1cf6ff9c",
        "papermill": {
          "duration": 0.014463,
          "end_time": "2024-06-29T05:07:00.969581",
          "exception": false,
          "start_time": "2024-06-29T05:07:00.955118",
          "status": "completed"
        },
        "tags": []
      },
      "source": [
        "### **Upload datasets**"
      ]
    },
    {
      "cell_type": "code",
      "source": [
        "# Load dataset iris dari sklearn\n",
        "iris = load_iris(as_frame=True)\n",
        "df = iris.frame\n",
        "\n",
        "# Pisahkan fitur dan target\n",
        "x = iris.data\n",
        "y = iris.target\n",
        "\n",
        "# Encode target (optional, untuk case multiclass stacking)\n",
        "\n",
        "# Split data menjadi train dan test\n",
        "X_train, X_test, y_train, y_test = train_test_split(x, y, test_size=0.3, random_state=42)"
      ],
      "metadata": {
        "id": "n5A865GHEqpX"
      },
      "id": "n5A865GHEqpX",
      "execution_count": 13,
      "outputs": []
    },
    {
      "cell_type": "markdown",
      "id": "f91c4f4f",
      "metadata": {
        "id": "f91c4f4f",
        "papermill": {
          "duration": 0.014633,
          "end_time": "2024-06-29T05:07:01.153943",
          "exception": false,
          "start_time": "2024-06-29T05:07:01.139310",
          "status": "completed"
        },
        "tags": []
      },
      "source": [
        "# **Model training and evaluation of the obtained results**\n",
        "Both in the case of classification and regression, stacking and blending showed the same and not the best results. As a rule, this situation occurs for two reasons: given that metadata is based on predictions of basic models, the presence of weak basic models can reduce the accuracy of stronger ones which will reduce the final prediction as a whole. Also a small amount of training data often leads to overfitting which in turn reduces the accuracy of predictions.\n",
        "\n",
        "In this case the problem can be partially solved by setting stack_method='predict_proba' when each basic classifier outputs class membership probabilities instead of the classes themselves which can help increase accuracy in the case of non-mutually exclusive classes. Also this method works better with noise in the data. As you can see this method has significantly increased the accuracy of the model. With the right selection of models and hyperparameters the accuracy will be even higher.\n",
        "\n",
        "Most often stacking shows slightly better results than blending due to the use of k-fold cross-validation but usually the difference is noticeable only on a large amount of data."
      ]
    },
    {
      "cell_type": "code",
      "execution_count": 17,
      "id": "bf39fc7e",
      "metadata": {
        "execution": {
          "iopub.execute_input": "2024-06-29T05:07:01.215267Z",
          "iopub.status.busy": "2024-06-29T05:07:01.214854Z",
          "iopub.status.idle": "2024-06-29T05:07:10.093042Z",
          "shell.execute_reply": "2024-06-29T05:07:10.091587Z"
        },
        "id": "bf39fc7e",
        "papermill": {
          "duration": 8.8971,
          "end_time": "2024-06-29T05:07:10.095743",
          "exception": false,
          "start_time": "2024-06-29T05:07:01.198643",
          "status": "completed"
        },
        "tags": [],
        "colab": {
          "base_uri": "https://localhost:8080/"
        },
        "outputId": "bead5e91-25fb-4233-daa4-652952283295"
      },
      "outputs": [
        {
          "output_type": "stream",
          "name": "stdout",
          "text": [
            "Stacking Acc : 1.0000\n",
            "Blending Acc : 0.2889\n"
          ]
        }
      ],
      "source": [
        "# StackingClassifier dan Blending Classifier\n",
        "from sklearn.datasets import load_iris\n",
        "from sklearn.model_selection import train_test_split\n",
        "from sklearn.ensemble import StackingClassifier\n",
        "from sklearn.linear_model import LogisticRegression\n",
        "from sklearn.tree import DecisionTreeClassifier\n",
        "from sklearn.neighbors import KNeighborsClassifier\n",
        "from sklearn.svm import SVC\n",
        "from sklearn.metrics import accuracy_score\n",
        "import numpy as np\n",
        "\n",
        "#Data tadi\n",
        "X, y = load_iris(return_X_y=True)\n",
        "X_train, X_test, y_train, y_test = train_test_split(X, y, test_size=0.3, random_state=42)\n",
        "\n",
        "# Base sama meta model\n",
        "base = [\n",
        "    ('dt', DecisionTreeClassifier(max_depth=3)),\n",
        "    ('knn', KNeighborsClassifier(n_neighbors=5)),\n",
        "    ('svm', SVC(probability=True))\n",
        "]\n",
        "meta = LogisticRegression()\n",
        "\n",
        "#Stack\n",
        "stack = StackingClassifier(estimators=base, final_estimator=meta, stack_method='predict_proba', cv=5)\n",
        "stack.fit(X_train, y_train)\n",
        "stack_acc = accuracy_score(y_test, stack.predict(X_test))\n",
        "\n",
        "#BLENDING manual\n",
        "X_t, X_v, y_t, y_v = train_test_split(X_train, y_train, test_size=0.2, random_state=42)\n",
        "models = [m[1].fit(X_t, y_t) for m in base]\n",
        "blend_train = np.column_stack([m.predict_proba(X_v).max(axis=1) for m in models])\n",
        "blend_test = np.column_stack([m.predict_proba(X_test).max(axis=1) for m in models])\n",
        "meta.fit(blend_train, y_v)\n",
        "blend_acc = accuracy_score(y_test, meta.predict(blend_test))\n",
        "\n",
        "# Hasil\n",
        "print(f\"Stacking Acc : {stack_acc:.4f}\")\n",
        "print(f\"Blending Acc : {blend_acc:.4f}\")"
      ]
    },
    {
      "cell_type": "markdown",
      "id": "f044880e",
      "metadata": {
        "id": "f044880e",
        "papermill": {
          "duration": 0.014779,
          "end_time": "2024-06-29T05:07:10.125840",
          "exception": false,
          "start_time": "2024-06-29T05:07:10.111061",
          "status": "completed"
        },
        "tags": []
      },
      "source": [
        "**StackingClassifier (scikit-learn)**\n",
        "\n",
        "\n",
        "* Merupakan implementasi resmi stacking untuk klasifikasi dalam scikit-learn.\n",
        "\n",
        "* Mempermudah proses ensemble dengan base learners dan final estimator (meta learner) dalam satu objek.\n",
        "\n",
        "* Sudah menangani cross-validation secara internal sehingga mengurangi risiko data leakage.\n",
        "\n",
        "* Mendukung parameter passthrough=True jika ingin menggabungkan fitur asli dengan meta-features.\n",
        "\n",
        "* Cocok untuk digunakan dalam pipeline dan produksi karena stabil dan teruji."
      ]
    },
    {
      "cell_type": "code",
      "execution_count": 19,
      "id": "11437b8a",
      "metadata": {
        "execution": {
          "iopub.execute_input": "2024-06-29T05:07:10.158872Z",
          "iopub.status.busy": "2024-06-29T05:07:10.157857Z",
          "iopub.status.idle": "2024-06-29T05:07:58.751416Z",
          "shell.execute_reply": "2024-06-29T05:07:58.749955Z"
        },
        "id": "11437b8a",
        "papermill": {
          "duration": 48.613356,
          "end_time": "2024-06-29T05:07:58.754310",
          "exception": false,
          "start_time": "2024-06-29T05:07:10.140954",
          "status": "completed"
        },
        "tags": [],
        "colab": {
          "base_uri": "https://localhost:8080/"
        },
        "outputId": "3674eace-d5eb-4712-c7a2-b10bc53c5f73"
      },
      "outputs": [
        {
          "output_type": "stream",
          "name": "stdout",
          "text": [
            "Akurasi StackingClassifier: 1.0000\n"
          ]
        }
      ],
      "source": [
        "# StackingClassifier (scikit-learn)\n",
        "from sklearn.datasets import load_iris\n",
        "from sklearn.model_selection import train_test_split\n",
        "from sklearn.ensemble import StackingClassifier\n",
        "from sklearn.linear_model import LogisticRegression\n",
        "from sklearn.tree import DecisionTreeClassifier\n",
        "from sklearn.neighbors import KNeighborsClassifier\n",
        "from sklearn.svm import SVC\n",
        "from sklearn.metrics import accuracy_score\n",
        "\n",
        "# Load dataset\n",
        "X, y = load_iris(return_X_y=True)\n",
        "X_train, X_test, y_train, y_test = train_test_split(X, y, test_size=0.3, random_state=42)\n",
        "\n",
        "# Base learners dan meta learner\n",
        "base_learners = [\n",
        "    ('dt', DecisionTreeClassifier(max_depth=3)),\n",
        "    ('knn', KNeighborsClassifier(n_neighbors=5)),\n",
        "    ('svm', SVC(probability=True))\n",
        "]\n",
        "meta_learner = LogisticRegression()\n",
        "\n",
        "# Buat model stacking\n",
        "stack_model = StackingClassifier(\n",
        "    estimators=base_learners,\n",
        "    final_estimator=meta_learner,\n",
        "    stack_method='predict_proba',\n",
        "    passthrough=False,\n",
        "    cv=5\n",
        ")\n",
        "\n",
        "# Train dan evaluasi\n",
        "stack_model.fit(X_train, y_train)\n",
        "y_pred = stack_model.predict(X_test)\n",
        "acc = accuracy_score(y_test, y_pred)\n",
        "print(f\"Akurasi StackingClassifier: {acc:.4f}\")"
      ]
    }
  ],
  "metadata": {
    "colab": {
      "provenance": []
    },
    "kaggle": {
      "accelerator": "none",
      "dataSources": [
        {
          "datasetId": 738,
          "sourceId": 1370,
          "sourceType": "datasetVersion"
        }
      ],
      "dockerImageVersionId": 30664,
      "isGpuEnabled": false,
      "isInternetEnabled": true,
      "language": "python",
      "sourceType": "notebook"
    },
    "kernelspec": {
      "display_name": "Python 3",
      "language": "python",
      "name": "python3"
    },
    "language_info": {
      "codemirror_mode": {
        "name": "ipython",
        "version": 3
      },
      "file_extension": ".py",
      "mimetype": "text/x-python",
      "name": "python",
      "nbconvert_exporter": "python",
      "pygments_lexer": "ipython3",
      "version": "3.10.13"
    },
    "papermill": {
      "default_parameters": {},
      "duration": 71.638912,
      "end_time": "2024-06-29T05:08:06.086780",
      "environment_variables": {},
      "exception": null,
      "input_path": "__notebook__.ipynb",
      "output_path": "__notebook__.ipynb",
      "parameters": {},
      "start_time": "2024-06-29T05:06:54.447868",
      "version": "2.5.0"
    }
  },
  "nbformat": 4,
  "nbformat_minor": 5
}